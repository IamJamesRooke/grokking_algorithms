{
 "cells": [
  {
   "cell_type": "markdown",
   "metadata": {},
   "source": [
    "# Binary Search"
   ]
  },
  {
   "cell_type": "markdown",
   "metadata": {},
   "source": [
    "## Simple Search\n",
    "$$ O(n) $$"
   ]
  },
  {
   "cell_type": "code",
   "execution_count": 47,
   "metadata": {},
   "outputs": [
    {
     "data": {
      "text/plain": [
       "3"
      ]
     },
     "execution_count": 47,
     "metadata": {},
     "output_type": "execute_result"
    }
   ],
   "source": [
    "arr = [1, 3, 5, 7, 9]\n",
    "\n",
    "def simple_search(arr, target):\n",
    "    for i in range(len(arr)):\n",
    "        if arr[i] == target:\n",
    "            return i\n",
    "        \n",
    "simple_search(arr, 7)"
   ]
  },
  {
   "cell_type": "markdown",
   "metadata": {},
   "source": [
    "## Binary Search\n",
    "$$ O(\\log_2 n) $$"
   ]
  },
  {
   "cell_type": "markdown",
   "metadata": {},
   "source": [
    "Given an ordered array, create a binary search algorithm to find the targetted number in as few steps as possible."
   ]
  },
  {
   "cell_type": "code",
   "execution_count": null,
   "metadata": {},
   "outputs": [],
   "source": [
    "def binary_search(arr, target):\n",
    "\n",
    "    # Keeping track of which part of the list I will search in\n",
    "    low = 0 # the beginning of the list\n",
    "    high = len(arr) - 1 # the end of the list\n",
    "\n",
    "    while low <= high: # while not narrowed down to one element\n",
    "        mid = (low + high) // 2 # find the index of the middle number\n",
    "        guess = arr[mid] # we will guess whatever that number is\n",
    "        \n",
    "        if guess == target: # if the guess is the target\n",
    "            return mid # give the index of the target\n",
    "        \n",
    "        elif guess > target: # if the guess is too high\n",
    "            high = mid - 1 # we update the high value to search in the lower part of the array\n",
    "\n",
    "        elif guess < target: # if the guess is too low\n",
    "            low = mid + 1 # we update the low value to search in the higher part of the array\n",
    "\n",
    "    return None # if the target isn't in the array, return None"
   ]
  },
  {
   "cell_type": "code",
   "execution_count": 48,
   "metadata": {},
   "outputs": [
    {
     "name": "stdout",
     "output_type": "stream",
     "text": [
      "None\n",
      "0\n",
      "1\n",
      "2\n",
      "3\n",
      "4\n",
      "None\n"
     ]
    }
   ],
   "source": [
    "arr = [1, 3, 5, 7, 9]\n",
    "\n",
    "print(binary_search(arr, 0))\n",
    "print(binary_search(arr, 1))\n",
    "print(binary_search(arr, 3))\n",
    "print(binary_search(arr, 5))\n",
    "print(binary_search(arr, 7))\n",
    "print(binary_search(arr, 9))\n",
    "print(binary_search(arr, 13))"
   ]
  },
  {
   "cell_type": "markdown",
   "metadata": {},
   "source": [
    "Page 37"
   ]
  },
  {
   "cell_type": "markdown",
   "metadata": {},
   "source": []
  }
 ],
 "metadata": {
  "kernelspec": {
   "display_name": ".venv",
   "language": "python",
   "name": "python3"
  },
  "language_info": {
   "codemirror_mode": {
    "name": "ipython",
    "version": 3
   },
   "file_extension": ".py",
   "mimetype": "text/x-python",
   "name": "python",
   "nbconvert_exporter": "python",
   "pygments_lexer": "ipython3",
   "version": "3.13.1"
  }
 },
 "nbformat": 4,
 "nbformat_minor": 2
}
